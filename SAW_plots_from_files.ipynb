{
 "cells": [
  {
   "cell_type": "code",
   "execution_count": null,
   "id": "1bbac2d0-8035-4ba3-83d0-c74b1b472fff",
   "metadata": {},
   "outputs": [],
   "source": [
    "import numpy as np\n",
    "import scipy as sc\n",
    "import matplotlib.pyplot as plt\n",
    "import pandas as pd\n",
    "from sympy.utilities.iterables import variations\n",
    "import time\n",
    "import itertools\n",
    "from matplotlib.ticker import PercentFormatter\n",
    "from scipy.optimize import curve_fit\n",
    "import warnings\n",
    "#import time as t\n",
    "warnings.filterwarnings(\"ignore\")\n",
    "%matplotlib inline"
   ]
  },
  {
   "cell_type": "code",
   "execution_count": null,
   "id": "4e89ae6b-6f7c-47e8-b006-b34f43443e22",
   "metadata": {},
   "outputs": [],
   "source": [
    "def counter_list(l,x):\n",
    "    counter = 0\n",
    "    for j in range(len(l)):\n",
    "        if l[j] == x:\n",
    "            counter +=1\n",
    "    return counter\n",
    "def sum_list(l1,l2,l3,l4,l5,l6,l7,l8,l9,l10):\n",
    "    sumList = []\n",
    "    for i in range(len(l1)):\n",
    "        temp = l1[i]+l2[i]+l3[i]+l4[i]+l5[i]+l6[i] + l7[i]+l8[i]+l9[i]+l10[i]\n",
    "        sumList.append(temp)\n",
    "    return sumList"
   ]
  },
  {
   "cell_type": "code",
   "execution_count": null,
   "id": "6067a09c-99bf-4daf-a8df-788af9f1eb2d",
   "metadata": {},
   "outputs": [],
   "source": [
    "#quick bit of code to check the activity\n",
    "#rejected_moves_l = []\n",
    "'''\n",
    "average_l= []\n",
    "average_r=[]\n",
    "for i in range(15):\n",
    "    file = \"data_lowT/data_flat_nobc/lowT_variables_flatnobc_{}.txt\"\n",
    "    form_file = file.format(i)\n",
    "    file = open(form_file, \"r\")\n",
    "    #print(i+1,':')\n",
    "    #content of file : [name1,magnetization,name2, energy,name3, energy1D,name4, length_x,length_y,name5, activity, name6, number of regions, name7,poss]\n",
    "    lines = file.read().splitlines()\n",
    "    activity_temp = list(map(int,((lines[10].replace('[','')).replace(']','')).split(\",\")))\n",
    "    n=50\n",
    "    moves = [counter_list(activity_temp,i) for i in range(n)]\n",
    "    #rejected_moves = counter_list(activity_temp,-1)\n",
    "    #print(rejected_moves)\n",
    "    #rejected_moves_l.append(rejected_moves)\n",
    "    #print(\"left: \", np.mean(moves[:25]))\n",
    "    average_l.append(np.mean(moves[:25]))\n",
    "    #print(\"right: \", np.mean(moves[25:]))\n",
    "    average_r.append(np.mean(moves[25:]))\n",
    "    file.close()\n",
    "#print(rejected_moves_l)\n",
    "#print(np.mean(rejected_moves_l))\n",
    "print(average_l)\n",
    "print(np.mean(average_l))\n",
    "print(average_r)\n",
    "print(np.mean(average_r))\n",
    "'''"
   ]
  },
  {
   "cell_type": "markdown",
   "id": "a49ec0df-4c2b-407e-9a18-cb6534e43141",
   "metadata": {
    "jp-MarkdownHeadingCollapsed": true
   },
   "source": [
    "## Results from 1 File"
   ]
  },
  {
   "cell_type": "code",
   "execution_count": null,
   "id": "c07c1c2d-e237-438e-8e6c-27e7768588b3",
   "metadata": {},
   "outputs": [],
   "source": [
    "file = open('data_rel_T/variables_curvednobc_rel.txt', \"r\")\n",
    "#file = open('data_T=2/data_flat_bc/variables_flatbc_21.txt', \"r\")\n",
    "#file = open('data_lowT/data_flat_nobc/variables_flat_nobc_lowT.txt', \"r\")\n",
    "#file = open('data_gen/data_flat_bc.txt', \"r\")\n",
    "#content of file : [name1,magnetization,name2, energy,name3, energy1D,name4, length_x,length_y,name5, activity, name6, number of regions, name7,poss]\n",
    "lines = file.read().splitlines()\n",
    "\n",
    "magnetization = list(map(float,((lines[1].replace('[','')).replace(']','')).split(\",\")))\n",
    "energy = list(map(float,((lines[3].replace('[','')).replace(']','')).split(\",\")))\n",
    "energy1D = list(map(float,((lines[5].replace('[','')).replace(']','')).split(\",\")))\n",
    "length_x = list(map(float,((lines[7].replace('[','')).replace(']','')).split(\",\")))\n",
    "length_y = list(map(float,((lines[8].replace('[','')).replace(']','')).split(\",\")))\n",
    "#activity = list(map(int,((lines[10].replace('[','')).replace(']','')).split(\",\")))\n",
    "numer_of_regions = list(map(int,((lines[10].replace('[','')).replace(']','')).split(\",\")))\n",
    "#poss = list(map(int,((lines[14].replace('[','')).replace(']','')).split(\",\")))\n",
    "print(type(magnetization))"
   ]
  },
  {
   "cell_type": "code",
   "execution_count": null,
   "id": "276bd028-1550-4ecc-9538-73dcfe32fe97",
   "metadata": {},
   "outputs": [],
   "source": [
    "'''print(len(magnetization))\n",
    "print(\"mean magnetization:\", np.mean(magnetization))\n",
    "#print(\"mean magnetization last 1000:\", np.mean(magnetization[-1000:]))\n",
    "#print(magnetization)\n",
    "print(len(energy))\n",
    "print(\"mean energy:\", np.mean(energy))\n",
    "#print(\"mean energy last 1000:\", np.mean(energy[-1000:]))\n",
    "#print(energy)\n",
    "print(len(energy1D))\n",
    "#print(energy1D)\n",
    "print(len(length_x))\n",
    "print(\"mean length x:\", np.mean(length_x))\n",
    "print(\"mean length x last 1000:\", np.mean(length_x[-1000:]))\n",
    "#print(length_x)\n",
    "print(len(length_y))\n",
    "print(\"mean length y:\", np.mean(length_y))\n",
    "print(\"mean length y last 1000:\", np.mean(length_y[-1000:]))\n",
    "#print(length_y)\n",
    "#print(len(activity))\n",
    "n=50\n",
    "#moves = [counter_list(activity,i) for i in range(n)]\n",
    "#print(\"mean activity:\", np.mean(moves[:25]))\n",
    "#print(\"mean activity last 80%:\", np.mean(moves[25:]))\n",
    "#print(activity)\n",
    "#print(len(numer_of_regions))\n",
    "steps = [i for i in range(len(magnetization))]'''"
   ]
  },
  {
   "cell_type": "code",
   "execution_count": null,
   "id": "2ca1ffda-2d39-4ee8-b002-18b7d90c32c7",
   "metadata": {},
   "outputs": [],
   "source": [
    "T = np.arange(0.1,4.5, 0.1)\n",
    "fig, ax = plt.subplots(1,1, dpi=150, figsize=(8, 4))\n",
    "plt.title('Relation of the magnetization and the temperature for the SAW')\n",
    "#plt.xlabel('Time (Monte Carlo steps)')\n",
    "plt.xlabel('Temperature (1/β)')\n",
    "plt.ylabel('Magnetization')\n",
    "plt.grid()\n",
    "#plt.xlim(0,10**5)\n",
    "#plt.ylim(-0.4,1)=\n",
    "plt.plot(T,magnetization, color = 'red', label='SAW magnetization')\n",
    "plt.scatter(T,magnetization)\n",
    "#plt.plot(-energy_after/100, color = 'blue', label='SAW_E')\n",
    "plt.axhline(1, color='blue', label='all spins up')\n",
    "plt.axhline(-1, color='darkblue', label='all spins down')\n",
    "#plt.axhline(np.mean(magnetization),color= 'black', label= 'average')\n",
    "#plt.axhline(np.mean(magnetization[-1000:]),color= 'forestgreen', label= 'average last 1000')\n",
    "#plt.plot(mag_after_2, label='SAW_2')\n",
    "#plt.axhline(y = mag_exact,color = 'black', label = 'exact')\n",
    "ax.legend()\n",
    "#fig.savefig('/home/sander/Documents/School/univ/Fysica/master/fase_3/thesis/thesis/Pictures/metropol_magn_combo_flat_bc_lowT.png', bbox_inches = 'tight')\n",
    "#fig.savefig('/home/sander/Documents/School/univ/Fysica/master/fase_3/thesis/thesis/Pictures/T_vs_mag_flat_SAW_100.png', bbox_inches = 'tight')"
   ]
  },
  {
   "cell_type": "code",
   "execution_count": null,
   "id": "e4265d03-9c1d-465d-b5d0-8813e3858264",
   "metadata": {},
   "outputs": [],
   "source": [
    "esteps = np.arange(0,10**5+1, 10**3)\n",
    "T = np.arange(0.1,4.5,0.1)\n",
    "fig, ax = plt.subplots(1,1, dpi=150, figsize=(8, 4))\n",
    "plt.title('Energy of the SAW')\n",
    "#plt.xlabel('Time (Monte Carlo steps)')\n",
    "plt.xlabel('Temperature (1/β)')\n",
    "plt.ylabel('Energy')\n",
    "plt.grid()\n",
    "#plt.xlim(0,10**5)\n",
    "plt.plot(T,energy, color = 'red', label='SAW energy')\n",
    "plt.scatter(T, energy, color='red')\n",
    "plt.scatter(T,energy1D, color='g')\n",
    "#plt.plot(np.cumsum(energy_after) / (1+np.arange(len(energy_after)))/len(x), color = 'purple', label = 'running mean of the energy')\n",
    "#plt.axhline(energy_ising_1d(spins_1d), color = 'blue', label='energy 1D Ising')\n",
    "plt.plot(T,energy1D,color = 'g', label= 'Energy for 1D-Ising')\n",
    "#plt.axhline(np.mean(energy),color= 'black', label= 'average')\n",
    "#plt.axhline(np.mean(energy[-1000:]),color= 'forestgreen', label= 'average last 1000')\n",
    "#plt.plot(mag_after_2, label='SAW_2')\n",
    "#plt.axhline(y = mag_exact,color = 'black', label = 'exact')\n",
    "ax.legend()\n",
    "#fig.savefig('/home/sander/Documents/School/univ/Fysica/master/fase_3/thesis/thesis/Pictures/metropol_ener_combo_flat_nobc_lowT.png', bbox_inches = 'tight')\n",
    "#fig.savefig('/home/sander/Documents/School/univ/Fysica/master/fase_3/thesis/thesis/Pictures/T_vs_E_flat_SAW_100.png', bbox_inches = 'tight')"
   ]
  },
  {
   "cell_type": "code",
   "execution_count": null,
   "id": "3ce685ff-e628-4f78-ad55-25d41d0960e3",
   "metadata": {},
   "outputs": [],
   "source": [
    "T = np.arange(0.1,4.5,0.1)\n",
    "len_x = 50\n",
    "fig, ax = plt.subplots(1,1, dpi=150, figsize=(8, 4))\n",
    "plt.title('Diameter of the SAW in the x- and y-direction')\n",
    "#plt.xlabel('Time (Monte Carlo steps)')\n",
    "plt.xlabel('Temperature (1/β)')\n",
    "plt.ylabel('Diameter')\n",
    "plt.grid()\n",
    "#plt.xlim(0,10**5)\n",
    "plt.plot(T,length_x, label='SAW diameter (x)')\n",
    "plt.scatter(T,length_x)\n",
    "plt.plot(T,length_y, color = 'red', label='SAW diameter (y)')\n",
    "plt.scatter(T,length_y, color ='red')\n",
    "plt.axhline(len_x,color='g', label='fully flat')\n",
    "plt.axhline(np.sqrt(len_x),color='black', label='fully curved')\n",
    "#plt.axhline(np.mean(length_y),color= 'black', label= 'average')\n",
    "#plt.axhline(np.mean(length_y[-1000:]),color= 'forestgreen', label= 'average last 1000')\n",
    "#plt.plot(mag_after_2, label='SAW_2')\n",
    "#plt.axhline(y = mag_exact,color = 'black', label = 'exact')\n",
    "ax.legend()\n",
    "#fig.savefig('/home/sander/Documents/School/univ/Fysica/master/fase_3/thesis/thesis/Pictures/metropol_len_combo_flat_bc_lowT.png', bbox_inches = 'tight')\n",
    "#fig.savefig('/home/sander/Documents/School/univ/Fysica/master/fase_3/thesis/thesis/Pictures/T_vs_len_flat_SAW_100.png', bbox_inches = 'tight')"
   ]
  },
  {
   "cell_type": "code",
   "execution_count": null,
   "id": "5cc85fc6-1e2e-42e7-ac9d-ed4d5b891112",
   "metadata": {},
   "outputs": [],
   "source": [
    "steps = [i for i in range(101)]\n",
    "esteps = np.arange(0,10**5+1, 10**3)\n",
    "T = np.arange(0.1,4.5,0.1)"
   ]
  },
  {
   "cell_type": "code",
   "execution_count": null,
   "id": "aaf874df-d8ac-498c-bc48-bf10427bb0aa",
   "metadata": {},
   "outputs": [],
   "source": [
    "#z_regions = np.polyfit(steps[1:], numer_of_regions[1:], 1)\n",
    "#p_regions = np.poly1d(z_regions)\n",
    "#print(p_regions)\n",
    "print(numer_of_regions[-1])\n",
    "print(np.mean(numer_of_regions))\n",
    "print(numer_of_regions)\n",
    "print(len(numer_of_regions))\n",
    "print(len(T))\n",
    "len_x= 50"
   ]
  },
  {
   "cell_type": "code",
   "execution_count": null,
   "id": "5d19823c-f9ca-4ceb-8ee5-0871e67b07b9",
   "metadata": {},
   "outputs": [],
   "source": [
    "T = np.arange(0,4.5,0.1)\n",
    "fig, ax = plt.subplots(1,1, dpi=150, figsize=(8, 4))\n",
    "plt.title('Domain walls for the SAW')\n",
    "#plt.xlabel('Time (Monte Carlo steps)')\n",
    "plt.xlabel('Temperature (1/β)')\n",
    "plt.ylabel('Domain walls')\n",
    "plt.grid()\n",
    "#plt.xlim(0,10**5)\n",
    "plt.scatter(T,numer_of_regions,color='red', label='Domain walls')\n",
    "plt.plot(T,numer_of_regions)\n",
    "#plt.plot(esteps, p_regions(steps),color = 'k', label = 'trend')\n",
    "#plt.plot(np.cumsum(energy_after) / (1+np.arange(len(energy_after)))/len(x), color = 'purple', label = 'running mean of the energy')\n",
    "plt.axhline(len_x,color = 'k', label='max')\n",
    "ax.legend()\n",
    "#fig.savefig('/home/sander/Documents/School/univ/Fysica/master/fase_3/thesis/thesis/Pictures/metropol_nor_combo_flat_bc_lowT.png', bbox_inches = 'tight')\n",
    "#fig.savefig('/home/sander/Documents/School/univ/Fysica/master/fase_3/thesis/thesis/Pictures/T_vs_nor_flat_SAW_100.png', bbox_inches = 'tight')"
   ]
  },
  {
   "cell_type": "code",
   "execution_count": null,
   "id": "bdaacabb-fcdf-4366-808c-3daf9ef72ad9",
   "metadata": {},
   "outputs": [],
   "source": [
    "n=50\n",
    "vertices = [i for i in range(1,n+1)]\n",
    "moves = [counter_list(activity,i) for i in range(n)]\n",
    "all_poss_moves = [counter_list(poss,i) for i in range(n)]"
   ]
  },
  {
   "cell_type": "code",
   "execution_count": null,
   "id": "d83c914a-31c2-46eb-a8cd-e40ada295e54",
   "metadata": {},
   "outputs": [],
   "source": [
    "#print(poss)\n",
    "print(\"number of rejected moves:\",counter_list(activity,-1))\n",
    "print(\"First move:\",activity[0])"
   ]
  },
  {
   "cell_type": "code",
   "execution_count": null,
   "id": "6d7b4f28-803e-4cc3-a292-9d00cb1a7cb6",
   "metadata": {},
   "outputs": [],
   "source": [
    "print(\"vertices:\",vertices)\n",
    "print(\"length: \",len(vertices))\n",
    "print('moves:',moves)\n",
    "print(\"length: \",len(moves))\n",
    "print(\"all possible moves:\",all_poss_moves)\n",
    "print(\"length: \",len(all_poss_moves))\n",
    "print(\"mean of moves left vs right\")\n",
    "print(np.mean(moves[:25]))\n",
    "print(np.mean(moves[25:]))\n",
    "print(\"mean possible moves left vs right\")\n",
    "print(np.mean(all_poss_moves[:25]))\n",
    "print(np.mean(all_poss_moves[25:]))"
   ]
  },
  {
   "cell_type": "code",
   "execution_count": null,
   "id": "5661014d-c5bf-42ae-b163-1d736842253b",
   "metadata": {},
   "outputs": [],
   "source": [
    "fig, ax = plt.subplots(1,1, dpi=150, figsize=(8, 4))\n",
    "plt.title(\"Activity for each of the vertices of the SAW\")\n",
    "plt.xlabel('vertices')\n",
    "plt.ylabel('number of moves')\n",
    "#num_bins = 25\n",
    "#plt.bar(vertices,all_poss_moves,color = 'red',label='possibility to move')\n",
    "plt.bar(vertices,moves, label='actual moves')\n",
    "#plt.bar(-1, 362,color = 'green', label='rejected moves')\n",
    "plt.bar(-1, counter_list(activity,-1),color = 'green', label='rejected moves')\n",
    "plt.axvline(25.5, color = 'k', label='middle of the SAW')\n",
    "plt.legend(loc=9)\n",
    "#print(activity)\n",
    "#fig.savefig('/home/sander/Documents/School/univ/Fysica/master/fase_3/thesis/notes/notes/Pictures/activity_discrep_h_flat_bc.png')#"
   ]
  },
  {
   "cell_type": "markdown",
   "id": "e03c8eb5-1b9b-4d7e-b69c-e763bc01eb5b",
   "metadata": {
    "jp-MarkdownHeadingCollapsed": true
   },
   "source": [
    "## Global results"
   ]
  },
  {
   "cell_type": "code",
   "execution_count": null,
   "id": "120219e3-c2e1-486d-bfc5-3382e1b053f4",
   "metadata": {},
   "outputs": [],
   "source": [
    "activity_all = []\n",
    "overall_length_x = []\n",
    "overall_length_y = []\n",
    "poss_all = []\n",
    "#iteration_list = [i for i in range(41)]\n",
    "for i in range(21):\n",
    "    file = \"data_T=2/data_curved_nobc/variables_curvednobc_{}.txt\"\n",
    "    form_file = file.format(i)\n",
    "    file = open(form_file, \"r\")\n",
    "    #content of file : [name1,magnetization,name2, energy,name3, energy1D,name4, length_x,length_y,name5, activity, name6, number of regions, name7,poss]\n",
    "    lines = file.read().splitlines()\n",
    "    magnetization_m = np.mean(list(map(float,((lines[1].replace('[','')).replace(']','')).split(\",\"))))\n",
    "    #print(i+1,\",\",\"m:\",magnetization_m)\n",
    "    energy_m = np.mean(list(map(float,((lines[3].replace('[','')).replace(']','')).split(\",\"))))\n",
    "    #print(\"E:\",energy_m)\n",
    "    energy1D_m = np.mean(list(map(float,((lines[5].replace('[','')).replace(']','')).split(\",\"))))\n",
    "    length_x = (list(map(float,((lines[7].replace('[','')).replace(']','')).split(\",\"))))\n",
    "    length_x_m = np.mean(length_x[len(length_x)//2:])\n",
    "    overall_length_x.append(length_x_m)\n",
    "    #print(i+1,\",\",\"l_x:\",length_x_m)\n",
    "    length_y = (list(map(float,((lines[8].replace('[','')).replace(']','')).split(\",\"))))\n",
    "    length_y_m = np.mean(length_y[len(length_y)//2:])\n",
    "    overall_length_y.append(length_y_m)\n",
    "    #print(i+1,\",\",\"l_y:\",length_y_m)\n",
    "    activity_temp = list(map(int,((lines[10].replace('[','')).replace(']','')).split(\",\")))\n",
    "    activity_all = list(itertools.chain(activity_all, activity_temp))\n",
    "    numer_of_regions_m = np.mean(list(map(int,((lines[12].replace('[','')).replace(']','')).split(\",\"))))\n",
    "    poss_temp = list(map(int,((lines[14].replace('[','')).replace(']','')).split(\",\")))\n",
    "    poss_all = list(itertools.chain(poss_all, poss_temp))\n",
    "    file.close()\n",
    "    #print(i+1)\n",
    "    #print('-'*100)\n",
    "print(np.mean(overall_length_x))\n",
    "print(np.mean(overall_length_y))"
   ]
  },
  {
   "cell_type": "code",
   "execution_count": null,
   "id": "89c69f76-fc1e-4cee-8af1-6ee0712b9d85",
   "metadata": {},
   "outputs": [],
   "source": [
    "n=64\n",
    "vertices = [i for i in range(1,n+1)]\n",
    "moves = [counter_list(activity_all,i) for i in range(n)]\n",
    "all_poss_moves = [counter_list(poss_all,i) for i in range(n)]"
   ]
  },
  {
   "cell_type": "code",
   "execution_count": null,
   "id": "f56c2e11-8d8a-4e97-a40e-96e4b4edb4ba",
   "metadata": {},
   "outputs": [],
   "source": [
    "print(sum(moves))"
   ]
  },
  {
   "cell_type": "code",
   "execution_count": null,
   "id": "a4f0e74a-96bd-4756-a0e4-5b83b6b77902",
   "metadata": {},
   "outputs": [],
   "source": [
    "#print(poss)\n",
    "rejected_moves_all = counter_list(activity_all,-1)\n",
    "print(\"number of rejected moves:\",rejected_moves_all)"
   ]
  },
  {
   "cell_type": "code",
   "execution_count": null,
   "id": "de94387f-3541-4c12-b741-626a42474161",
   "metadata": {},
   "outputs": [],
   "source": [
    "print(rejected_moves_all + sum(moves))\n",
    "print(rejected_moves_all/(sum(moves)+rejected_moves_all))"
   ]
  },
  {
   "cell_type": "code",
   "execution_count": null,
   "id": "50df965e-9e55-4c98-9de3-f9bb5547ff76",
   "metadata": {},
   "outputs": [],
   "source": [
    "print(\"vertices:\",vertices)\n",
    "print(\"length: \",len(vertices))\n",
    "print('moves:',moves)\n",
    "print(\"length: \",len(moves))\n",
    "print(\"all possible moves:\",all_poss_moves)\n",
    "print(\"length: \",len(all_poss_moves))\n",
    "print(\"mean of moves left vs right\")\n",
    "print(np.mean(moves[:25]))\n",
    "print(np.mean(moves[25:]))\n",
    "print(\"mean possible moves left vs right\")\n",
    "print(np.mean(all_poss_moves[:25]))\n",
    "print(np.mean(all_poss_moves[25:]))"
   ]
  },
  {
   "cell_type": "code",
   "execution_count": null,
   "id": "ede94194-e5c2-489f-8afd-5beea468d097",
   "metadata": {},
   "outputs": [],
   "source": [
    "fig, ax = plt.subplots(1,1, dpi=150, figsize=(8, 4))\n",
    "plt.title(\"Activity for each of the vertices of the SAW\")\n",
    "plt.xlabel('vertices')\n",
    "plt.ylabel('number of moves')\n",
    "#num_bins = 25\n",
    "#plt.bar(vertices,all_poss_moves,color = 'red',label='possibility to move')\n",
    "plt.bar(vertices,moves, label='actual moves')\n",
    "#plt.bar(-1, 362,color = 'green', label='rejected moves')\n",
    "plt.bar(-1, rejected_moves_all,color = 'green', label='rejected moves')\n",
    "#plt.axvline(25.5, color = 'k', label='middle of the SAW')\n",
    "plt.legend(loc=9)\n",
    "#print(activity)"
   ]
  },
  {
   "cell_type": "markdown",
   "id": "a7a598da-9835-4ba9-86f1-6aabf16eef4a",
   "metadata": {
    "jp-MarkdownHeadingCollapsed": true
   },
   "source": [
    "## Number of regions"
   ]
  },
  {
   "cell_type": "code",
   "execution_count": null,
   "id": "899de569-b452-45b5-9435-26aa9ca7aba1",
   "metadata": {},
   "outputs": [],
   "source": [
    "for i in range(15):\n",
    "    string='data_lowT/data_flat_bc/lowT_variables_flatbc_{}.txt'\n",
    "    filename = string.format(i)\n",
    "    file = open(filename, \"r\")\n",
    "    lines = file.read().splitlines()\n",
    "    numer_of_regions = list(map(int,((lines[12].replace('[','')).replace(']','')).split(\",\")))\n",
    "    #print(len(numer_of_regions))\n",
    "    steps = [j for j in range(101)]\n",
    "    z_regions = np.polyfit(steps[10:], numer_of_regions[10:], 1)\n",
    "    p_regions = np.poly1d(z_regions)\n",
    "    #print(p_regions)\n",
    "    print(i,\":\",z_regions[0])\n",
    "    #print(numer_of_regions[-1])\n",
    "    #print(np.mean(numer_of_regions))\n",
    "    #print(numer_of_regions)"
   ]
  },
  {
   "cell_type": "code",
   "execution_count": null,
   "id": "60602849-f4f3-496b-b2cc-0d85818f6af4",
   "metadata": {},
   "outputs": [],
   "source": []
  },
  {
   "cell_type": "code",
   "execution_count": null,
   "id": "f5418fde-b10c-49bf-b33e-ebd3360a4042",
   "metadata": {},
   "outputs": [],
   "source": []
  },
  {
   "cell_type": "code",
   "execution_count": null,
   "id": "677c1026-a0b3-4a83-929e-c4df7d9b9c55",
   "metadata": {},
   "outputs": [],
   "source": []
  },
  {
   "cell_type": "markdown",
   "id": "bf8723ae-3742-4a1e-98b9-35754ee0b8d9",
   "metadata": {
    "jp-MarkdownHeadingCollapsed": true
   },
   "source": [
    "## Curvature files"
   ]
  },
  {
   "cell_type": "code",
   "execution_count": null,
   "id": "87b3e2f1-a2f9-4305-b92a-c3caf188917a",
   "metadata": {},
   "outputs": [],
   "source": [
    "#to quickly iterate over all curvature files\n",
    "'''\n",
    "for i in range(21):\n",
    "    string = 'data_curved_bc/curvature_curvedbc_{}.txt'\n",
    "    filename = string.format(i)\n",
    "    file = open(filename, \"r\")\n",
    "    #content of file : [name1,magnetization,name2, energy,name3, energy1D,name4, length_x,length_y,name5, activity, name6, number of regions, name7,poss]\n",
    "    lines = file.read().splitlines()\n",
    "    \n",
    "    steps = [i for i in range(101)]\n",
    "    curv_begin = list(map(float,((lines[0].replace('{{','')).replace('}}','')).split(\",\")))\n",
    "    curv_mid = list(map(float,((lines[1].replace('{{','')).replace('}}','')).split(\",\")))\n",
    "    curv_end = list(map(float,((lines[2].replace('{{','')).replace('}}','')).split(\",\")))\n",
    "    z_b = np.polyfit(steps, curv_begin, 1)\n",
    "    p_b = np.poly1d(z_b)\n",
    "    z_m = np.polyfit(steps, curv_mid, 1)\n",
    "    p_m = np.poly1d(z_m)\n",
    "    z_e = np.polyfit(steps, curv_end, 1)\n",
    "    p_e = np.poly1d(z_e)\n",
    "    print(i+1,\":\")\n",
    "    print(\"p_b:\", p_b)\n",
    "    print(\"p_m:\", p_m)\n",
    "    print(\"p_e:\", p_e)\n",
    "'''"
   ]
  },
  {
   "cell_type": "code",
   "execution_count": null,
   "id": "3679f525-cba9-4385-8a52-687d293df7d3",
   "metadata": {},
   "outputs": [],
   "source": [
    "file = open('data_T=2/data_flat_nobc/curvature_flatnobc_0.txt', \"r\")\n",
    "#content of file : [name1,magnetization,name2, energy,name3, energy1D,name4, length_x,length_y,name5, activity, name6, number of regions, name7,poss]\n",
    "lines = file.read().splitlines()\n",
    "\n",
    "steps = [i for i in range(101)]\n",
    "curv_begin = list(map(float,((lines[0].replace('{{','')).replace('}}','')).split(\",\")))\n",
    "curv_begin = curv_begin[10:]\n",
    "curv_mid = list(map(float,((lines[1].replace('{{','')).replace('}}','')).split(\",\")))\n",
    "curv_mid = curv_mid[10:]\n",
    "curv_end = list(map(float,((lines[2].replace('{{','')).replace('}}','')).split(\",\")))\n",
    "curv_end = curv_end[10:]"
   ]
  },
  {
   "cell_type": "code",
   "execution_count": null,
   "id": "eb11dd65-b948-4c50-a105-d5c3aee32586",
   "metadata": {},
   "outputs": [],
   "source": [
    "print(curv_begin)\n",
    "print(curv_mid)\n",
    "print(curv_end)"
   ]
  },
  {
   "cell_type": "code",
   "execution_count": null,
   "id": "499214b2-8a4c-4fca-a2f6-aa1cd2bfe895",
   "metadata": {},
   "outputs": [],
   "source": [
    "z_b = np.polyfit(steps, curv_begin, 1)\n",
    "p_b = np.poly1d(z_b)\n",
    "z_m = np.polyfit(steps, curv_mid, 1)\n",
    "p_m = np.poly1d(z_m)\n",
    "z_e = np.polyfit(steps, curv_end, 1)\n",
    "p_e = np.poly1d(z_e)"
   ]
  },
  {
   "cell_type": "code",
   "execution_count": null,
   "id": "cc81528e-1cd1-4726-827c-077db43fc067",
   "metadata": {},
   "outputs": [],
   "source": [
    "print(\"p_b:\", p_b)\n",
    "print(\"p_m:\", p_m)\n",
    "print(\"p_e:\", p_e)"
   ]
  },
  {
   "cell_type": "code",
   "execution_count": null,
   "id": "e04547d5-ab64-4b94-8780-40135c9ed8ed",
   "metadata": {},
   "outputs": [],
   "source": [
    "fig, ax = plt.subplots(1,1, dpi=150, figsize=(8, 4))\n",
    "plt.title('Curvature for given edges of a SAW')\n",
    "plt.xlabel('steps')\n",
    "plt.ylabel('Curvature')\n",
    "plt.grid()\n",
    "plt.scatter(steps, curv_begin,s=10, color = 'blue', label = '(5,6)')\n",
    "plt.scatter(steps, curv_mid,s=10,color = 'red', label = '(25,26)')\n",
    "plt.scatter(steps, curv_end,s=10,color = 'k', label = '(45,46)')\n",
    "plt.plot(steps, p_b(steps), color = 'blue', label = 'trend (5,6)')\n",
    "plt.plot(steps, p_m(steps), color = 'red', label = 'trend (25,26)')\n",
    "plt.plot(steps, p_e(steps), color = 'k', label = 'trend (45,46)')\n",
    "#plt.plot(x, τ_opt1*x, color = 'blue', label = 'trend (5,6)')\n",
    "#plt.plot(x, τ_opt2*x, color =', label = 'trend (25,26)')\n",
    "#plt.plot(x, τ_opt3*x, color = 'k', label = 'trend (45,46)')\n",
    "#plt.plot(steps, curv_begin)\n",
    "#plt.plot(steps, curv_mid)\n",
    "#plt.plot(steps, curv_end)\n",
    "ax.legend()"
   ]
  },
  {
   "cell_type": "code",
   "execution_count": null,
   "id": "5472a16f-2317-419c-bec4-a30ba82fe667",
   "metadata": {},
   "outputs": [],
   "source": [
    "poss_curvature = [-2, -1,0,1,2]\n",
    "curv_counter_begin = [np.round(counter_list(curv_begin,i)/len(curv_begin),2) for i in [-2,-1,0,1,2]]\n",
    "curv_counter_mid = [np.round(counter_list(curv_mid,i)/len(curv_mid),2) for i in [-2,-1,0,1,2]]\n",
    "curv_counter_end = [np.round(counter_list(curv_end,i)/len(curv_end),2) for i in [-2,-1,0,1,2]]"
   ]
  },
  {
   "cell_type": "code",
   "execution_count": null,
   "id": "bd8e6788-af93-4c61-be5a-c8a4e52d6ba0",
   "metadata": {},
   "outputs": [],
   "source": [
    "fig, ax = plt.subplots(1,1, dpi=150, figsize=(8, 4))\n",
    "plt.title('Values of the curvature for given edges of a SAW')\n",
    "plt.xlabel('values')\n",
    "plt.ylabel('Number of times present (in percent)')\n",
    "label_begin = [f\"{np.round(100*a,2)}%\" for a in curv_counter_begin]\n",
    "label_mid = [f\"{np.round(100*a,2)}%\" for a in curv_counter_mid]\n",
    "label_end= [f\"{np.round(100*a,2)}%\" for a in curv_counter_end]\n",
    "#plt.grid()\n",
    "#plt.ylim(0,1)\n",
    "p1 = plt.bar([x-0.2 for x in poss_curvature], curv_counter_begin,width=0.2, color = 'slategrey', label = '(5,6)')\n",
    "p2 = plt.bar(poss_curvature, curv_counter_mid,width=0.2, color='grey', label='(25,26)')\n",
    "p3 = plt.bar([x+0.2 for x in poss_curvature], curv_counter_end,width=0.2, color = 'silver', label='(45,46)')\n",
    "ax.bar_label(p1,labels=label_begin, label_type=\"edge\")\n",
    "ax.bar_label(p2,labels=label_mid, label_type=\"center\")\n",
    "ax.bar_label(p3,labels=label_end, label_type=\"edge\")\n",
    "#for container in ax.containers:\n",
    "#    ax.bar_label(container, label_type='edge')\n",
    "ax.legend()"
   ]
  },
  {
   "cell_type": "markdown",
   "id": "18daabca-c1c2-4746-a1c6-95c37ca59386",
   "metadata": {
    "jp-MarkdownHeadingCollapsed": true
   },
   "source": [
    "## Curvature Global results"
   ]
  },
  {
   "cell_type": "code",
   "execution_count": null,
   "id": "93c5bb78-d04c-4469-ac2f-5ba0948df14b",
   "metadata": {},
   "outputs": [],
   "source": [
    "curv_begin_all = []#[0]*101\n",
    "curv_mid_all = []# [0]*101\n",
    "curv_end_all =[]#[0]*101\n",
    "for i in range(15):\n",
    "    #string = 'data_T=2/data_curved_nobc/curvature_curvednobc_{}.txt'\n",
    "    string = 'data_lowT/data_flat_bc/lowT_curvature_flatbc_{}.txt'\n",
    "    #string = 'data_T=2/data_curved_nobc/curvature_curvednobc_{}.txt'\n",
    "    #string = 'data_curved_bc/curvature_curvedbc_{}.txt'\n",
    "    filename = string.format(i)\n",
    "    file = open(filename, \"r\")\n",
    "    lines = file.read().splitlines()\n",
    "    steps = [i for i in range(101)]\n",
    "    curv_begin = list(map(float,((lines[0].replace('{{','')).replace('}}','')).split(\",\")))\n",
    "    curv_begin_all = list(itertools.chain(curv_begin_all, curv_begin[10:]))\n",
    "    #curv_begin_all = [(curv_begin_all[i]+curv_begin[i])/21 for i in range(len(curv_begin))]\n",
    "    curv_mid = list(map(float,((lines[1].replace('{{','')).replace('}}','')).split(\",\")))\n",
    "    #curv_mid_all = [(curv_mid_all[i]+curv_mid[i])/21 for i in range(len(curv_mid))]\n",
    "    curv_mid_all = list(itertools.chain(curv_mid_all, curv_mid[10:]))\n",
    "    curv_end = list(map(float,((lines[2].replace('{{','')).replace('}}','')).split(\",\")))\n",
    "    #curv_end_all = [(curv_end_all[i]+curv_end[i])/21 for i in range(len(curv_end))]\n",
    "    curv_end_all = list(itertools.chain(curv_end_all, curv_end[10:]))\n",
    "    #z_b = np.polyfit(steps, curv_begin, 1)\n",
    "    #p_b = np.poly1d(z_b)\n",
    "    #z_m = np.polyfit(steps, curv_mid, 1)\n",
    "    #p_m = np.poly1d(z_m)\n",
    "    #z_e = np.polyfit(steps, curv_end, 1)\n",
    "    #p_e = np.poly1d(z_e)\n",
    "    #print(i, \":\")\n",
    "    #print(\"p_b:\", p_b)\n",
    "    #print(\"p_m:\", p_m)\n",
    "    #print(\"p_e:\", p_e)"
   ]
  },
  {
   "cell_type": "code",
   "execution_count": null,
   "id": "236b163e-8c0b-4d6d-b410-be48517e9f2f",
   "metadata": {},
   "outputs": [],
   "source": [
    "print(len(curv_begin_all))\n",
    "#print(curv_begin_all)\n",
    "print(np.mean(curv_begin_all))\n",
    "#print(curv_mid_all)\n",
    "print(np.mean(curv_mid_all))\n",
    "#print(curv_end_all)\n",
    "print(np.mean(curv_end_all))"
   ]
  },
  {
   "cell_type": "code",
   "execution_count": null,
   "id": "46fec6ef-e160-41f6-9f02-081898fc7af3",
   "metadata": {},
   "outputs": [],
   "source": [
    "'''\n",
    "z_b = np.polyfit(steps, curv_begin_all, 1)\n",
    "p_b = np.poly1d(z_b)\n",
    "z_m = np.polyfit(steps, curv_mid_all, 1)\n",
    "p_m = np.poly1d(z_m)\n",
    "z_e = np.polyfit(steps, curv_end_all, 1)\n",
    "p_e = np.poly1d(z_e)\n",
    "print(\"p_b:\", p_b)\n",
    "print(\"p_m:\", p_m)\n",
    "print(\"p_e:\", p_e)\n",
    "'''"
   ]
  },
  {
   "cell_type": "code",
   "execution_count": null,
   "id": "47dccc3a-97ee-4fa0-9494-c9d0723780b4",
   "metadata": {},
   "outputs": [],
   "source": [
    "'''fig, ax = plt.subplots(1,1, dpi=150, figsize=(8, 4))\n",
    "plt.title('Curvature for given edges of a SAW')\n",
    "plt.xlabel('steps')\n",
    "plt.ylabel('Curvature')\n",
    "plt.grid()\n",
    "#plt.axhline(1/21,color='orange', label=\"curvature 1\")\n",
    "#plt.axhline(2/21, color='cyan' ,label = \"curvature 2\")\n",
    "#plt.axhline(-1/21, color='green',label=\"curvature -1\")\n",
    "#plt.axhline(-2/21, color='olive',label = \"curvature -2\")\n",
    "plt.scatter(steps, curv_begin_all,s=10, color = 'blue', label = '(5,6)')\n",
    "plt.scatter(steps, curv_mid_all,s=10,color = 'red', label = '(25,26)')\n",
    "plt.scatter(steps, curv_end_all,s=10,color = 'k', label = '(45,46)')\n",
    "#plt.plot(steps, p_b(steps), color = 'blue', label = 'trend (5,6)')\n",
    "#plt.plot(steps, p_m(steps), color = 'red', label = 'trend (25,26)')\n",
    "#plt.plot(steps, p_e(steps), color = 'k', label = 'trend (45,46)')\n",
    "#plt.plot(x, τ_opt1*x, color = 'blue', label = 'trend (5,6)')\n",
    "#plt.plot(x, τ_opt2*x, color =', label = 'trend (25,26)')\n",
    "#plt.plot(x, τ_opt3*x, color = 'k', label = 'trend (45,46)')\n",
    "#plt.plot(steps, curv_begin)\n",
    "#plt.plot(steps, curv_mid)\n",
    "#plt.plot(steps, curv_end)\n",
    "ax.legend()'''"
   ]
  },
  {
   "cell_type": "code",
   "execution_count": null,
   "id": "11a016c2-c487-4503-baf3-11d0a5f2783f",
   "metadata": {},
   "outputs": [],
   "source": [
    "poss_curvature = [-2, -1,0,1,2]\n",
    "curv_counter_begin = [np.round(counter_list(curv_begin_all,i)/len(curv_begin_all),2) for i in [-2,-1,0,1,2]]\n",
    "curv_counter_mid = [np.round(counter_list(curv_mid_all,i)/len(curv_mid_all),2) for i in [-2,-1,0,1,2]]\n",
    "curv_counter_end = [np.round(counter_list(curv_end_all,i)/len(curv_end_all),2) for i in [-2,-1,0,1,2]]\n",
    "\n",
    "#print(len(poss_curvature))\n",
    "#print(len(curv_counter))\n",
    "#plt.bar(poss_curvature, curv_counter)"
   ]
  },
  {
   "cell_type": "code",
   "execution_count": null,
   "id": "de3dd759-0f72-417a-af2b-7334a13bff78",
   "metadata": {},
   "outputs": [],
   "source": [
    "fig, ax = plt.subplots(1,1, dpi=150, figsize=(8, 4))\n",
    "plt.title('Values of the curvature for given edges of a SAW')\n",
    "plt.xlabel('Values')\n",
    "plt.ylabel('Relative frequency')\n",
    "label_begin = [f\"{np.round(100*a,2)}%\" for a in curv_counter_begin]\n",
    "label_mid = [f\"{np.round(100*a,2)}%\" for a in curv_counter_mid]\n",
    "label_end= [f\"{np.round(100*a,2)}%\" for a in curv_counter_end]\n",
    "#plt.grid()\n",
    "#plt.ylim(0,1)\n",
    "p1 = plt.bar([x-0.2 for x in poss_curvature], curv_counter_begin,width=0.2, color = 'slategrey', label = '(5,6)')\n",
    "p2 = plt.bar(poss_curvature, curv_counter_mid,width=0.2, color='grey', label='(25,26)')\n",
    "p3 = plt.bar([x+0.2 for x in poss_curvature], curv_counter_end,width=0.2, color = 'silver', label='(45,46)')\n",
    "ax.bar_label(p1,labels=label_begin, label_type=\"edge\")\n",
    "ax.bar_label(p2,labels=label_mid, label_type=\"center\")\n",
    "ax.bar_label(p3,labels=label_end, label_type=\"edge\")\n",
    "#for container in ax.containers:\n",
    "#    ax.bar_label(container, label_type='edge')\n",
    "ax.legend()"
   ]
  },
  {
   "cell_type": "markdown",
   "id": "9fc8b4d2-445e-4105-adfa-3c7d56a8411f",
   "metadata": {
    "jp-MarkdownHeadingCollapsed": true
   },
   "source": [
    "## Activity relative T global"
   ]
  },
  {
   "cell_type": "code",
   "execution_count": null,
   "id": "e8064467-e24f-4778-9f36-916215b9917a",
   "metadata": {},
   "outputs": [],
   "source": [
    "rejected_move = []\n"
   ]
  },
  {
   "cell_type": "code",
   "execution_count": null,
   "id": "dfe5804b-9acf-4c56-8096-cfb0451eee50",
   "metadata": {},
   "outputs": [],
   "source": [
    "file = open('data_rel_T/activity_rel_fnbc.txt',\"r\")\n",
    "lines = file.read().splitlines()\n",
    "#activity = list(map(float,((lines[0].replace('[[','')).replace(']]','')).split(\",\")))\n",
    "global_activity = {}\n",
    "index_activity = [i for i in range(1,51)]\n",
    "#global_activity[\"rejected move\"] = []\n",
    "for i in range(44):\n",
    "    print(i)\n",
    "    string = \"activity_{}\"\n",
    "    formatted_string = string.format(i)\n",
    "    #index_activity.append(formatted_string)\n",
    "    activity = list(map(float,((lines[i].replace('[[','')).replace(']]','')).split(\",\")))\n",
    "    counter_value = [counter_list(activity,j) for j in range(50)]\n",
    "    global_activity[formatted_string] = counter_value\n",
    "    #global_activity[\"rejected move\"].append(counter_list(activity,-1))\n",
    "print(global_activity)"
   ]
  },
  {
   "cell_type": "code",
   "execution_count": null,
   "id": "865008de-82bf-46e8-95f1-f15bb4edaa8c",
   "metadata": {},
   "outputs": [],
   "source": [
    "print(len(global_activity['activity_1']))"
   ]
  },
  {
   "cell_type": "code",
   "execution_count": null,
   "id": "71416a5b-714e-4043-9ddd-39bee826966c",
   "metadata": {},
   "outputs": [],
   "source": [
    "df = pd.DataFrame(global_activity, index=index_activity)\n",
    "#print(df)"
   ]
  },
  {
   "cell_type": "code",
   "execution_count": null,
   "id": "9a243070-5258-4c94-95cf-e77ad9c04b6d",
   "metadata": {},
   "outputs": [],
   "source": [
    "df.plot(kind=\"bar\",title='Activity for all temperatures combined',legend=False, stacked=True, figsize=(10, 8))\n",
    "#plt.legend(loc=\"lower left\", bbox_to_anchor=(0.8, 1.0))\n",
    "plt.show()"
   ]
  },
  {
   "cell_type": "code",
   "execution_count": null,
   "id": "7e5a27fc-7474-4eec-9c44-73954140ad9c",
   "metadata": {},
   "outputs": [],
   "source": []
  }
 ],
 "metadata": {
  "kernelspec": {
   "display_name": "Python 3 (ipykernel)",
   "language": "python",
   "name": "python3"
  },
  "language_info": {
   "codemirror_mode": {
    "name": "ipython",
    "version": 3
   },
   "file_extension": ".py",
   "mimetype": "text/x-python",
   "name": "python",
   "nbconvert_exporter": "python",
   "pygments_lexer": "ipython3",
   "version": "3.8.19"
  }
 },
 "nbformat": 4,
 "nbformat_minor": 5
}
